{
 "cells": [
  {
   "cell_type": "code",
   "execution_count": 1,
   "id": "9958579d-de0f-44e4-811f-a56d0c1afeea",
   "metadata": {},
   "outputs": [],
   "source": [
    "# Install the Kaggle package to interact with the Kaggle API"
   ]
  },
  {
   "cell_type": "code",
   "execution_count": 2,
   "id": "ccfa7228-3231-485f-bda5-851d7e4c6d38",
   "metadata": {},
   "outputs": [
    {
     "name": "stdout",
     "output_type": "stream",
     "text": [
      "Requirement already satisfied: kaggle in c:\\anaa\\lib\\site-packages (1.6.17)Note: you may need to restart the kernel to use updated packages.\n",
      "\n",
      "Requirement already satisfied: six>=1.10 in c:\\anaa\\lib\\site-packages (from kaggle) (1.16.0)\n",
      "Requirement already satisfied: certifi>=2023.7.22 in c:\\anaa\\lib\\site-packages (from kaggle) (2024.6.2)\n",
      "Requirement already satisfied: python-dateutil in c:\\anaa\\lib\\site-packages (from kaggle) (2.9.0.post0)\n",
      "Requirement already satisfied: requests in c:\\anaa\\lib\\site-packages (from kaggle) (2.32.2)\n",
      "Requirement already satisfied: tqdm in c:\\anaa\\lib\\site-packages (from kaggle) (4.66.4)\n",
      "Requirement already satisfied: python-slugify in c:\\anaa\\lib\\site-packages (from kaggle) (5.0.2)\n",
      "Requirement already satisfied: urllib3 in c:\\anaa\\lib\\site-packages (from kaggle) (2.2.2)\n",
      "Requirement already satisfied: bleach in c:\\anaa\\lib\\site-packages (from kaggle) (4.1.0)\n",
      "Requirement already satisfied: packaging in c:\\anaa\\lib\\site-packages (from bleach->kaggle) (23.2)\n",
      "Requirement already satisfied: webencodings in c:\\anaa\\lib\\site-packages (from bleach->kaggle) (0.5.1)\n",
      "Requirement already satisfied: text-unidecode>=1.3 in c:\\anaa\\lib\\site-packages (from python-slugify->kaggle) (1.3)\n",
      "Requirement already satisfied: charset-normalizer<4,>=2 in c:\\anaa\\lib\\site-packages (from requests->kaggle) (2.0.4)\n",
      "Requirement already satisfied: idna<4,>=2.5 in c:\\anaa\\lib\\site-packages (from requests->kaggle) (3.7)\n",
      "Requirement already satisfied: colorama in c:\\anaa\\lib\\site-packages (from tqdm->kaggle) (0.4.6)\n"
     ]
    }
   ],
   "source": [
    "pip install kaggle"
   ]
  },
  {
   "cell_type": "code",
   "execution_count": null,
   "id": "78fdc81b-08fe-4a33-8969-0b2f3dcb8169",
   "metadata": {},
   "outputs": [],
   "source": [
    "# Download the 'orders.csv' file from the specified Kaggle dataset"
   ]
  },
  {
   "cell_type": "code",
   "execution_count": 3,
   "id": "6acd23da-f6a2-4ff5-bf11-7a373b9e8e8c",
   "metadata": {},
   "outputs": [
    {
     "name": "stdout",
     "output_type": "stream",
     "text": [
      "Dataset URL: https://www.kaggle.com/datasets/ankitbansal06/retail-orders\n",
      "License(s): CC0-1.0\n",
      "orders.csv.zip: Skipping, found more recently modified local copy (use --force to force download)\n"
     ]
    }
   ],
   "source": [
    "!kaggle datasets download ankitbansal06/retail-orders -f orders.csv"
   ]
  },
  {
   "cell_type": "code",
   "execution_count": null,
   "id": "570e6f0c-d651-4f6f-86d9-8b3cb4937a21",
   "metadata": {},
   "outputs": [],
   "source": [
    "# Extract the Downloaded ZIP File"
   ]
  },
  {
   "cell_type": "code",
   "execution_count": 4,
   "id": "616b1a20-1cb5-4023-b541-33cf4b18f56c",
   "metadata": {},
   "outputs": [],
   "source": [
    "from zipfile import ZipFile\n",
    "with ZipFile(r'C:\\Users\\91904\\orders.csv.zip','r')as zip_ref:\n",
    "    zip_ref.extractall()\n",
    "    zip_ref.close() "
   ]
  },
  {
   "cell_type": "code",
   "execution_count": 20,
   "id": "36aa68d1-37c7-4c5b-b137-89b8cf20e2ff",
   "metadata": {},
   "outputs": [
    {
     "name": "stdout",
     "output_type": "stream",
     "text": [
      "<class 'pandas.core.frame.DataFrame'>\n",
      "RangeIndex: 9994 entries, 0 to 9993\n",
      "Data columns (total 16 columns):\n",
      " #   Column            Non-Null Count  Dtype \n",
      "---  ------            --------------  ----- \n",
      " 0   Order Id          9994 non-null   int64 \n",
      " 1   Order Date        9994 non-null   object\n",
      " 2   Ship Mode         9993 non-null   object\n",
      " 3   Segment           9994 non-null   object\n",
      " 4   Country           9994 non-null   object\n",
      " 5   City              9994 non-null   object\n",
      " 6   State             9994 non-null   object\n",
      " 7   Postal Code       9994 non-null   int64 \n",
      " 8   Region            9994 non-null   object\n",
      " 9   Category          9994 non-null   object\n",
      " 10  Sub Category      9994 non-null   object\n",
      " 11  Product Id        9994 non-null   object\n",
      " 12  cost price        9994 non-null   int64 \n",
      " 13  List Price        9994 non-null   int64 \n",
      " 14  Quantity          9994 non-null   int64 \n",
      " 15  Discount Percent  9994 non-null   int64 \n",
      "dtypes: int64(6), object(10)\n",
      "memory usage: 1.2+ MB\n",
      "None\n",
      "   Order Id  Order Date       Ship Mode    Segment        Country  \\\n",
      "0         1  2023-03-01    Second Class   Consumer  United States   \n",
      "1         2  2023-08-15    Second Class   Consumer  United States   \n",
      "2         3  2023-01-10    Second Class  Corporate  United States   \n",
      "3         4  2022-06-18  Standard Class   Consumer  United States   \n",
      "4         5  2022-07-13  Standard Class   Consumer  United States   \n",
      "5         6  2022-03-13   Not Available   Consumer  United States   \n",
      "6         7  2022-12-28  Standard Class   Consumer  United States   \n",
      "7         8  2022-01-25  Standard Class   Consumer  United States   \n",
      "8         9  2023-03-23   Not Available   Consumer  United States   \n",
      "9        10  2023-05-16  Standard Class   Consumer  United States   \n",
      "\n",
      "              City       State  Postal Code Region         Category  \\\n",
      "0        Henderson    Kentucky        42420  South        Furniture   \n",
      "1        Henderson    Kentucky        42420  South        Furniture   \n",
      "2      Los Angeles  California        90036   West  Office Supplies   \n",
      "3  Fort Lauderdale     Florida        33311  South        Furniture   \n",
      "4  Fort Lauderdale     Florida        33311  South  Office Supplies   \n",
      "5      Los Angeles  California        90032   West        Furniture   \n",
      "6      Los Angeles  California        90032   West  Office Supplies   \n",
      "7      Los Angeles  California        90032   West       Technology   \n",
      "8      Los Angeles  California        90032   West  Office Supplies   \n",
      "9      Los Angeles  California        90032   West  Office Supplies   \n",
      "\n",
      "  Sub Category       Product Id  cost price  List Price  Quantity  \\\n",
      "0    Bookcases  FUR-BO-10001798         240         260         2   \n",
      "1       Chairs  FUR-CH-10000454         600         730         3   \n",
      "2       Labels  OFF-LA-10000240          10          10         2   \n",
      "3       Tables  FUR-TA-10000577         780         960         5   \n",
      "4      Storage  OFF-ST-10000760          20          20         2   \n",
      "5  Furnishings  FUR-FU-10001487          50          50         7   \n",
      "6          Art  OFF-AR-10002833          10          10         4   \n",
      "7       Phones  TEC-PH-10002275         860         910         6   \n",
      "8      Binders  OFF-BI-10003910          20          20         3   \n",
      "9   Appliances  OFF-AP-10002892          90         110         5   \n",
      "\n",
      "   Discount Percent  \n",
      "0                 2  \n",
      "1                 3  \n",
      "2                 5  \n",
      "3                 2  \n",
      "4                 5  \n",
      "5                 3  \n",
      "6                 3  \n",
      "7                 5  \n",
      "8                 2  \n",
      "9                 3  \n"
     ]
    }
   ],
   "source": [
    "# Load Data into a DataFrame\n",
    "import pandas as pd\n",
    "# Read the CSV file into a pandas DataFrame\n",
    "df=pd.read_csv(r'C:\\Users\\91904\\orders.csv')\n",
    "# Display informtion about orders.csv\n",
    "print(df.info())\n",
    "# Display the first 10 rows of the DataFrame\n",
    "print(df.head(10))\n"
   ]
  },
  {
   "cell_type": "code",
   "execution_count": 21,
   "id": "c18d6498-9739-425d-922f-bc85794a62c4",
   "metadata": {},
   "outputs": [],
   "source": [
    "# Assign proper column names for dataframe\n",
    "df.columns=['order_id','order_date','ship_mode','segment','country','city','state','postal_code','region','category','sub_category','product_id','cost_price','list_price','quantity','discount_percent']"
   ]
  },
  {
   "cell_type": "code",
   "execution_count": 22,
   "id": "64a56765-8a00-4b63-9cd4-b870c04adcb6",
   "metadata": {},
   "outputs": [],
   "source": [
    "# convert proper data type\n",
    "import numpy as np\n",
    "# Convert 'order_date' column to datetime format\n",
    "df['order_date']=pd.to_datetime(df['order_date'])\n",
    "pd.set_option('float_format', '{:.2f}'.format)\n",
    "# Convert 'cost_price' column to float data type with two decimal places format\n",
    "df['cost_price']=df['cost_price'].astype(float)\n",
    "# Convert 'list_price' column to float data type with two decimal places format\n",
    "df['list_price']=df['list_price'].astype(float)\n",
    "# Convert 'quantity' column to float data type with two decimal places format\n",
    "df['quantity']=df['quantity'].astype(float)\n",
    "# Convert 'discount_percent' column to float data type with two decimal places format\n",
    "df['discount_percent']=df['discount_percent'].astype(float)"
   ]
  },
  {
   "cell_type": "code",
   "execution_count": 23,
   "id": "ae2ae136-3ca8-49a8-9e06-db21dcb3c7b0",
   "metadata": {},
   "outputs": [],
   "source": [
    "# Data cleaning:\n",
    "for col in df.columns:\n",
    "        if df[col].dtype=='int64':\n",
    "            # Assign 0 to integer null value\n",
    "            df[col]=df[col].fillna(0)\n",
    "        elif df[col].dtype=='object':\n",
    "            modee=df[col].mode()[0]\n",
    "            # Assign mode to object null value\n",
    "            df[col]=df[col].fillna(modee)\n",
    "            # Remove unwanted space in object column\n",
    "            df[col]=df[col].str.strip()\n",
    "          "
   ]
  },
  {
   "cell_type": "code",
   "execution_count": 24,
   "id": "1436d0b4-41f0-4b77-bcaa-a8e8923d9e68",
   "metadata": {},
   "outputs": [],
   "source": [
    "# Feature Engineering\n",
    "# Calculate discount amount \n",
    "df['discount']=(df['list_price']*df['discount_percent'])/100\n",
    "# Calculate sale price after discount\n",
    "df['sale_price']=df['list_price']-df['discount']\n",
    "# calculate profit\n",
    "df['profit']=df['sale_price']-df['cost_price']"
   ]
  },
  {
   "cell_type": "code",
   "execution_count": 25,
   "id": "3dc6f9b8-a6c2-4b3e-8ca2-a2b730373d4d",
   "metadata": {},
   "outputs": [
    {
     "name": "stdout",
     "output_type": "stream",
     "text": [
      "<class 'pandas.core.frame.DataFrame'>\n",
      "RangeIndex: 9994 entries, 0 to 9993\n",
      "Data columns (total 19 columns):\n",
      " #   Column            Non-Null Count  Dtype         \n",
      "---  ------            --------------  -----         \n",
      " 0   order_id          9994 non-null   int64         \n",
      " 1   order_date        9994 non-null   datetime64[ns]\n",
      " 2   ship_mode         9994 non-null   object        \n",
      " 3   segment           9994 non-null   object        \n",
      " 4   country           9994 non-null   object        \n",
      " 5   city              9994 non-null   object        \n",
      " 6   state             9994 non-null   object        \n",
      " 7   postal_code       9994 non-null   int64         \n",
      " 8   region            9994 non-null   object        \n",
      " 9   category          9994 non-null   object        \n",
      " 10  sub_category      9994 non-null   object        \n",
      " 11  product_id        9994 non-null   object        \n",
      " 12  cost_price        9994 non-null   float64       \n",
      " 13  list_price        9994 non-null   float64       \n",
      " 14  quantity          9994 non-null   float64       \n",
      " 15  discount_percent  9994 non-null   float64       \n",
      " 16  discount          9994 non-null   float64       \n",
      " 17  sale_price        9994 non-null   float64       \n",
      " 18  profit            9994 non-null   float64       \n",
      "dtypes: datetime64[ns](1), float64(7), int64(2), object(9)\n",
      "memory usage: 1.4+ MB\n",
      "None\n",
      "   order_id order_date       ship_mode    segment        country  \\\n",
      "0         1 2023-03-01    Second Class   Consumer  United States   \n",
      "1         2 2023-08-15    Second Class   Consumer  United States   \n",
      "2         3 2023-01-10    Second Class  Corporate  United States   \n",
      "3         4 2022-06-18  Standard Class   Consumer  United States   \n",
      "4         5 2022-07-13  Standard Class   Consumer  United States   \n",
      "5         6 2022-03-13   Not Available   Consumer  United States   \n",
      "6         7 2022-12-28  Standard Class   Consumer  United States   \n",
      "7         8 2022-01-25  Standard Class   Consumer  United States   \n",
      "8         9 2023-03-23   Not Available   Consumer  United States   \n",
      "9        10 2023-05-16  Standard Class   Consumer  United States   \n",
      "\n",
      "              city       state  postal_code region         category  \\\n",
      "0        Henderson    Kentucky        42420  South        Furniture   \n",
      "1        Henderson    Kentucky        42420  South        Furniture   \n",
      "2      Los Angeles  California        90036   West  Office Supplies   \n",
      "3  Fort Lauderdale     Florida        33311  South        Furniture   \n",
      "4  Fort Lauderdale     Florida        33311  South  Office Supplies   \n",
      "5      Los Angeles  California        90032   West        Furniture   \n",
      "6      Los Angeles  California        90032   West  Office Supplies   \n",
      "7      Los Angeles  California        90032   West       Technology   \n",
      "8      Los Angeles  California        90032   West  Office Supplies   \n",
      "9      Los Angeles  California        90032   West  Office Supplies   \n",
      "\n",
      "  sub_category       product_id  cost_price  list_price  quantity  \\\n",
      "0    Bookcases  FUR-BO-10001798      240.00      260.00      2.00   \n",
      "1       Chairs  FUR-CH-10000454      600.00      730.00      3.00   \n",
      "2       Labels  OFF-LA-10000240       10.00       10.00      2.00   \n",
      "3       Tables  FUR-TA-10000577      780.00      960.00      5.00   \n",
      "4      Storage  OFF-ST-10000760       20.00       20.00      2.00   \n",
      "5  Furnishings  FUR-FU-10001487       50.00       50.00      7.00   \n",
      "6          Art  OFF-AR-10002833       10.00       10.00      4.00   \n",
      "7       Phones  TEC-PH-10002275      860.00      910.00      6.00   \n",
      "8      Binders  OFF-BI-10003910       20.00       20.00      3.00   \n",
      "9   Appliances  OFF-AP-10002892       90.00      110.00      5.00   \n",
      "\n",
      "   discount_percent  discount  sale_price  profit  \n",
      "0              2.00      5.20      254.80   14.80  \n",
      "1              3.00     21.90      708.10  108.10  \n",
      "2              5.00      0.50        9.50   -0.50  \n",
      "3              2.00     19.20      940.80  160.80  \n",
      "4              5.00      1.00       19.00   -1.00  \n",
      "5              3.00      1.50       48.50   -1.50  \n",
      "6              3.00      0.30        9.70   -0.30  \n",
      "7              5.00     45.50      864.50    4.50  \n",
      "8              2.00      0.40       19.60   -0.40  \n",
      "9              3.00      3.30      106.70   16.70  \n",
      "order_id            0\n",
      "order_date          0\n",
      "ship_mode           0\n",
      "segment             0\n",
      "country             0\n",
      "city                0\n",
      "state               0\n",
      "postal_code         0\n",
      "region              0\n",
      "category            0\n",
      "sub_category        0\n",
      "product_id          0\n",
      "cost_price          0\n",
      "list_price          0\n",
      "quantity            0\n",
      "discount_percent    0\n",
      "discount            0\n",
      "sale_price          0\n",
      "profit              0\n",
      "dtype: int64\n"
     ]
    }
   ],
   "source": [
    "# checking\n",
    "print(df.info())\n",
    "print(df.head(10))\n",
    "print(df.isnull().sum())"
   ]
  },
  {
   "cell_type": "code",
   "execution_count": 26,
   "id": "0ce11df9-a948-416c-8719-04668a57f78f",
   "metadata": {},
   "outputs": [
    {
     "name": "stdout",
     "output_type": "stream",
     "text": [
      "      order_id order_date       ship_mode    segment        country  \\\n",
      "0            1 2023-03-01    Second Class   Consumer  United States   \n",
      "1            2 2023-08-15    Second Class   Consumer  United States   \n",
      "2            3 2023-01-10    Second Class  Corporate  United States   \n",
      "3            4 2022-06-18  Standard Class   Consumer  United States   \n",
      "4            5 2022-07-13  Standard Class   Consumer  United States   \n",
      "...        ...        ...             ...        ...            ...   \n",
      "9989      9990 2023-02-18    Second Class   Consumer  United States   \n",
      "9990      9991 2023-03-17  Standard Class   Consumer  United States   \n",
      "9991      9992 2022-08-07  Standard Class   Consumer  United States   \n",
      "9992      9993 2022-11-19  Standard Class   Consumer  United States   \n",
      "9993      9994 2022-07-17    Second Class   Consumer  United States   \n",
      "\n",
      "                 city       state  postal_code region         category  \\\n",
      "0           Henderson    Kentucky        42420  South        Furniture   \n",
      "1           Henderson    Kentucky        42420  South        Furniture   \n",
      "2         Los Angeles  California        90036   West  Office Supplies   \n",
      "3     Fort Lauderdale     Florida        33311  South        Furniture   \n",
      "4     Fort Lauderdale     Florida        33311  South  Office Supplies   \n",
      "...               ...         ...          ...    ...              ...   \n",
      "9989            Miami     Florida        33180  South        Furniture   \n",
      "9990       Costa Mesa  California        92627   West        Furniture   \n",
      "9991       Costa Mesa  California        92627   West       Technology   \n",
      "9992       Costa Mesa  California        92627   West  Office Supplies   \n",
      "9993      Westminster  California        92683   West  Office Supplies   \n",
      "\n",
      "     sub_category  \n",
      "0       Bookcases  \n",
      "1          Chairs  \n",
      "2          Labels  \n",
      "3          Tables  \n",
      "4         Storage  \n",
      "...           ...  \n",
      "9989  Furnishings  \n",
      "9990  Furnishings  \n",
      "9991       Phones  \n",
      "9992        Paper  \n",
      "9993   Appliances  \n",
      "\n",
      "[9994 rows x 11 columns]\n"
     ]
    }
   ],
   "source": [
    "# Split data frame into two data frame\n",
    "# Contains all rows from order_id column to sub_category column\n",
    "df1=df.loc[:,'order_id':'sub_category']\n",
    "print(df1)"
   ]
  },
  {
   "cell_type": "code",
   "execution_count": 27,
   "id": "2af645f6-9734-4e01-b205-eed33087abe9",
   "metadata": {},
   "outputs": [
    {
     "name": "stdout",
     "output_type": "stream",
     "text": [
      "      order_id       product_id  cost_price  list_price  quantity  \\\n",
      "0            1  FUR-BO-10001798      240.00      260.00      2.00   \n",
      "1            2  FUR-CH-10000454      600.00      730.00      3.00   \n",
      "2            3  OFF-LA-10000240       10.00       10.00      2.00   \n",
      "3            4  FUR-TA-10000577      780.00      960.00      5.00   \n",
      "4            5  OFF-ST-10000760       20.00       20.00      2.00   \n",
      "...        ...              ...         ...         ...       ...   \n",
      "9989      9990  FUR-FU-10001889       30.00       30.00      3.00   \n",
      "9990      9991  FUR-FU-10000747       70.00       90.00      2.00   \n",
      "9991      9992  TEC-PH-10003645      220.00      260.00      2.00   \n",
      "9992      9993  OFF-PA-10004041       30.00       30.00      4.00   \n",
      "9993      9994  OFF-AP-10002684      210.00      240.00      2.00   \n",
      "\n",
      "      discount_percent  discount  sale_price  profit  \n",
      "0                 2.00      5.20      254.80   14.80  \n",
      "1                 3.00     21.90      708.10  108.10  \n",
      "2                 5.00      0.50        9.50   -0.50  \n",
      "3                 2.00     19.20      940.80  160.80  \n",
      "4                 5.00      1.00       19.00   -1.00  \n",
      "...                ...       ...         ...     ...  \n",
      "9989              4.00      1.20       28.80   -1.20  \n",
      "9990              4.00      3.60       86.40   16.40  \n",
      "9991              2.00      5.20      254.80   34.80  \n",
      "9992              3.00      0.90       29.10   -0.90  \n",
      "9993              3.00      7.20      232.80   22.80  \n",
      "\n",
      "[9994 rows x 9 columns]\n"
     ]
    }
   ],
   "source": [
    "df2=df.loc[:,['order_id','product_id','cost_price','list_price','quantity','discount_percent','discount','sale_price','profit']]\n",
    "print(df2)"
   ]
  },
  {
   "cell_type": "code",
   "execution_count": 4,
   "id": "3a9b9310-6dd0-48ef-b856-e6d9f825e03e",
   "metadata": {},
   "outputs": [
    {
     "name": "stdout",
     "output_type": "stream",
     "text": [
      "Requirement already satisfied: mysql-connector-python in c:\\anaa\\lib\\site-packages (9.0.0)\n"
     ]
    }
   ],
   "source": [
    "!pip install mysql-connector-python"
   ]
  },
  {
   "cell_type": "code",
   "execution_count": 9,
   "id": "9454bf18-a059-45f5-8bbc-f8a12ad4bf4f",
   "metadata": {},
   "outputs": [
    {
     "name": "stdout",
     "output_type": "stream",
     "text": [
      "Requirement already satisfied: sqlalchemy in c:\\anaa\\lib\\site-packages (2.0.30)\n",
      "Requirement already satisfied: typing-extensions>=4.6.0 in c:\\anaa\\lib\\site-packages (from sqlalchemy) (4.11.0)\n",
      "Requirement already satisfied: greenlet!=0.4.17 in c:\\anaa\\lib\\site-packages (from sqlalchemy) (3.0.1)\n"
     ]
    }
   ],
   "source": [
    "!pip install sqlalchemy"
   ]
  },
  {
   "cell_type": "code",
   "execution_count": 10,
   "id": "2b2a839b-01d8-4f6d-a2e0-a9d73a4903c5",
   "metadata": {},
   "outputs": [
    {
     "name": "stdout",
     "output_type": "stream",
     "text": [
      "Requirement already satisfied: pymysql in c:\\anaa\\lib\\site-packages (1.1.1)Note: you may need to restart the kernel to use updated packages.\n",
      "\n"
     ]
    }
   ],
   "source": [
    "pip install pymysql"
   ]
  },
  {
   "cell_type": "code",
   "execution_count": 29,
   "id": "430c16f8-8552-4c2f-9c03-0a15aa717bd9",
   "metadata": {},
   "outputs": [
    {
     "name": "stdout",
     "output_type": "stream",
     "text": [
      "successfully inserted in order_data\n",
      "successfully inserted in product_data\n"
     ]
    },
    {
     "data": {
      "text/plain": [
       "True"
      ]
     },
     "execution_count": 29,
     "metadata": {},
     "output_type": "execute_result"
    }
   ],
   "source": [
    "# Load Data into SQL Database\n",
    "import mysql.connector\n",
    "import sqlalchemy\n",
    "from sqlalchemy import create_engine\n",
    "# Database connection details\n",
    "connection = mysql.connector.connect(\n",
    "    host = \"localhost\",\n",
    "    user = \"root\",\n",
    "    password = \"jeya\",\n",
    "    auth_plugin='mysql_native_password'\n",
    "\n",
    ")\n",
    "\n",
    "con = connection.cursor()\n",
    "con.execute(\"CREATE DATABASE retailorder\")\n",
    "\n",
    "connection.commit()\n",
    "con.execute('use retailorder')\n",
    "host = \"localhost\"\n",
    "user = \"root\"\n",
    "password = \"jeya\"\n",
    "port = 3306\n",
    "database_ip='127.0.0.1'\n",
    "database = \"retailorder\"\n",
    "# Create a SQLAlchemy engine\n",
    "my_conn = create_engine('mysql+pymysql://{0}:{1}@{2}:{3}/{4}'.format(user,password,host,port,database))\n",
    "\n",
    "table_name = \"order_data\"\n",
    "# Load the DataFrame into the SQL database table 'order_data'\n",
    "df1.to_sql(table_name,my_conn,if_exists=\"replace\",index=False) #['fail,replace,append']\n",
    "print(\"successfully inserted in order_data\")\n",
    "table_name1='product_data'\n",
    "# Load the DataFrame into the SQL database table 'product_data'\n",
    "df2.to_sql(table_name1,my_conn,if_exists=\"replace\",index=False) #['fail,replace,append']\n",
    "print(\"successfully inserted in product_data\")\n",
    "# Assign order_id as primary key in order_data table\n",
    "con.execute('alter table order_data add primary key(order_id)')\n",
    "connection.commit()\n",
    "# Assign order_id as foreign key in product_data table\n",
    "con.execute('alter table product_data add foreign key(order_id) references order_data(order_id)')\n",
    "connection.commit()\n",
    "con.close()"
   ]
  },
  {
   "cell_type": "code",
   "execution_count": null,
   "id": "8161371b-e8bf-42de-9d34-19425209a81c",
   "metadata": {},
   "outputs": [],
   "source": []
  }
 ],
 "metadata": {
  "kernelspec": {
   "display_name": "Python 3 (ipykernel)",
   "language": "python",
   "name": "python3"
  },
  "language_info": {
   "codemirror_mode": {
    "name": "ipython",
    "version": 3
   },
   "file_extension": ".py",
   "mimetype": "text/x-python",
   "name": "python",
   "nbconvert_exporter": "python",
   "pygments_lexer": "ipython3",
   "version": "3.12.4"
  }
 },
 "nbformat": 4,
 "nbformat_minor": 5
}
